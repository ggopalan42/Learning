{
 "cells": [
  {
   "cell_type": "code",
   "execution_count": 1,
   "metadata": {},
   "outputs": [
    {
     "name": "stderr",
     "output_type": "stream",
     "text": [
      "Using TensorFlow backend.\n"
     ]
    }
   ],
   "source": [
    "# imports\n",
    "# import the necessary packages\n",
    "from sklearn.linear_model import LogisticRegression\n",
    "from keras.applications import ResNet50\n",
    "from keras.applications import imagenet_utils\n",
    "from keras.preprocessing.image import img_to_array\n",
    "from keras.preprocessing.image import load_img\n",
    "from keras.applications.resnet50 import preprocess_input, decode_predictions\n",
    "from config import dogs_vs_cats_config as config\n",
    "from imutils import paths\n",
    "import numpy as np\n",
    "from collections import namedtuple\n",
    "import pickle\n",
    "import os"
   ]
  },
  {
   "cell_type": "code",
   "execution_count": 2,
   "metadata": {},
   "outputs": [],
   "source": [
    "def load_model(model_path = config.LOGISTIC_TRAINED_MODEL):\n",
    "    ''' Load the logistic model and return it '''\n",
    "    with open(model_path, 'rb') as infh:\n",
    "        model = pickle.load(infh)\n",
    "    return model"
   ]
  },
  {
   "cell_type": "code",
   "execution_count": 3,
   "metadata": {},
   "outputs": [],
   "source": [
    "def load_test_images_paths(test_image_path = config.TEST_COMPETITION_PATH):\n",
    "    ''' Get the paths of the test images '''\n",
    "    test_image_paths = list(paths.list_images(test_image_path))\n",
    "    return test_image_paths"
   ]
  },
  {
   "cell_type": "code",
   "execution_count": 4,
   "metadata": {},
   "outputs": [],
   "source": [
    "def  image_thru_resnet50_xfer(res_model, image_path):\n",
    "    ''' Do the preprocessing step of passing the image through the ResNet50 lower level\n",
    "        nets (and not the final FC layers)\n",
    "        That is, process the image exactly as it would before being fed to the logistic classifier\n",
    "        during the training step'''\n",
    "    image = load_img(image_path, target_size=(224, 224))\n",
    "    image = img_to_array(image)\n",
    "    image = np.expand_dims(image, axis=0)\n",
    "    image = imagenet_utils.preprocess_input(image)\n",
    "    # Now pass the image through the res_model \"predict\". This will not predict the result, but will\n",
    "    # instead pass it through the conv layers onel of resnet50 (and not the FC layers).\n",
    "    # meaning, res_image will be the extracted \"features\" of the image (remember, we are doing xfer learning here)\n",
    "    res_image = res_model.predict(image)\n",
    "    return res_image"
   ]
  },
  {
   "cell_type": "code",
   "execution_count": 7,
   "metadata": {},
   "outputs": [],
   "source": [
    "def predict_test_set():\n",
    "    ''' Go through all of the test images and predict '''\n",
    "    # Get the output in CSV format\n",
    "    img_pred = namedtuple('img_pred', 'id label')\n",
    "    header = img_pred('id', 'label')\n",
    "    submission = [header]\n",
    "    \n",
    "    # Load the trained model\n",
    "    logistic_model = load_model()\n",
    "    # Load the resnet50 model\n",
    "    res_model = ResNet50(weights=\"imagenet\", include_top=False)\n",
    "    # Get the test images paths\n",
    "    test_image_paths = load_test_images_paths()\n",
    "    # test_image_paths = test_image_paths[0:10]\n",
    "    \n",
    "    for image_path in test_image_paths:\n",
    "        res_image = image_thru_resnet50_xfer(res_model, image_path)\n",
    "        prediction = logistic_model.predict_proba(res_image.reshape(1,-1))\n",
    "        image_fn = os.path.basename(image_path)\n",
    "        image_id = os.path.splitext(image_fn)[0]\n",
    "        image_pred = prediction[0][1]  # (second) Index 0 => Cat and Index 1 => Dog\n",
    "        formatted_pred = '{:f}'.format(float(image_pred))\n",
    "        submission.append(img_pred(image_id, formatted_pred))\n",
    "    return submission"
   ]
  },
  {
   "cell_type": "code",
   "execution_count": 6,
   "metadata": {},
   "outputs": [
    {
     "name": "stderr",
     "output_type": "stream",
     "text": [
      "/home/ggopalan/anaconda3/envs/ggpy3/lib/python3.6/site-packages/keras_applications/resnet50.py:263: UserWarning: The output shape of `ResNet50(include_top=False)` has been changed since Keras 2.2.0.\n",
      "  warnings.warn('The output shape of `ResNet50(include_top=False)` '\n"
     ]
    }
   ],
   "source": [
    "submission = predict_test_set()"
   ]
  },
  {
   "cell_type": "code",
   "execution_count": 9,
   "metadata": {},
   "outputs": [],
   "source": [
    "with open('gg_catsvdogs_sub_01.csv', 'wt') as outfh:\n",
    "    for (id, label) in submission:\n",
    "        outfh.write('{},{}\\n'.format(id, label))"
   ]
  },
  {
   "cell_type": "code",
   "execution_count": null,
   "metadata": {},
   "outputs": [],
   "source": []
  }
 ],
 "metadata": {
  "kernelspec": {
   "display_name": "Python 3",
   "language": "python",
   "name": "python3"
  },
  "language_info": {
   "codemirror_mode": {
    "name": "ipython",
    "version": 3
   },
   "file_extension": ".py",
   "mimetype": "text/x-python",
   "name": "python",
   "nbconvert_exporter": "python",
   "pygments_lexer": "ipython3",
   "version": "3.6.2"
  }
 },
 "nbformat": 4,
 "nbformat_minor": 2
}
