{
 "cells": [
  {
   "cell_type": "markdown",
   "metadata": {},
   "source": [
    "### This code reads in training data, splits and writes out train and test data for experimentations"
   ]
  },
  {
   "cell_type": "code",
   "execution_count": 1,
   "metadata": {},
   "outputs": [],
   "source": [
    "from pathlib import Path\n",
    "import re\n",
    "import random"
   ]
  },
  {
   "cell_type": "code",
   "execution_count": 2,
   "metadata": {},
   "outputs": [],
   "source": [
    "# Set paths\n",
    "qiqc_train_in = Path('/data/data1/datasets/kaggle/quora_insincere/train.csv')\n",
    "\n",
    "qiqc_expt_train_out = Path('/data/data1/datasets/kaggle/quora_insincere/output/qiqc_expt_train_set.txt')\n",
    "qiqc_expt_test_out = Path('/data/data1/datasets/kaggle/quora_insincere/output/qiqc_expt_test_set.txt')"
   ]
  },
  {
   "cell_type": "code",
   "execution_count": 3,
   "metadata": {},
   "outputs": [],
   "source": [
    "# Set seed for repeatibility\n",
    "random.seed(42)\n",
    "# What percent of data to save separately as test data\n",
    "percent_test_data = 0.10"
   ]
  },
  {
   "cell_type": "code",
   "execution_count": 4,
   "metadata": {},
   "outputs": [],
   "source": [
    "# Function that converts string to lowercase and replaces any punctuations to <space>punctuation\n",
    "def strip_formatting(string):\n",
    "    string = string.lower()\n",
    "    string = re.sub(r\"([.!?,'/()])\", r\" \\1 \", string)\n",
    "    return string\n"
   ]
  },
  {
   "cell_type": "code",
   "execution_count": 5,
   "metadata": {},
   "outputs": [],
   "source": [
    "def check_train_line_format(line):\n",
    "    ''' Checks that line in the training dataset is in the correct format\n",
    "    \n",
    "        Correct format is: qid,question,(0|1)\n",
    "        Where:\n",
    "            qid: is a 20 digit hex number\n",
    "            question: is a free-format string\n",
    "            (0|1): is, well, 0 or 1\n",
    "            \n",
    "        Parameters:\n",
    "            line: String to be checked\n",
    "        Returns:\n",
    "            True: if line is in correct pattern\n",
    "            False: If line is not in correct pattern\n",
    "    '''\n",
    "    \n",
    "    # The regex pattern is checked as follows:\n",
    "    #   a) ^[0-9a-f]{20} => line starts with a hex characters 20 hex digits long\n",
    "    #   b) .*: followed by any characters of any length\n",
    "    #   c) \\,(0|1): Line end with a comma followed by 0 or 1\n",
    "    return True if re.match(r'^[0-9a-f]{20}.*\\,(0|1)', line) else False\n",
    "    "
   ]
  },
  {
   "cell_type": "code",
   "execution_count": 6,
   "metadata": {},
   "outputs": [],
   "source": [
    "def check_test_line_format(line):\n",
    "    ''' Checks that line in the test dataset is in the correct format\n",
    "    \n",
    "        Correct format is: qid,question\n",
    "        Where:\n",
    "            qid: is a 20 digit hex number\n",
    "            question: is a free-format string\n",
    "            \n",
    "        Parameters:\n",
    "            line: String to be checked\n",
    "        Returns:\n",
    "            True: if line is in correct pattern\n",
    "            False: If line is not in correct pattern\n",
    "    '''\n",
    "    \n",
    "    # The regex pattern is checked as follows:\n",
    "    #   a) ^[0-9a-f]{20} => line starts with a hex characters 20 hex digits long\n",
    "    #   b) .*: followed by any characters of any length\n",
    "    return True if re.match(r'^[0-9a-f]{20}.*', line) else False\n",
    "    "
   ]
  },
  {
   "cell_type": "code",
   "execution_count": 9,
   "metadata": {},
   "outputs": [],
   "source": [
    "def prep_data(train_in, expt_train_out, expt_test_out):\n",
    "    ''' Convert each line of in_data to format of fastText.\n",
    "    \n",
    "        For example, the in_data line: 00002165364db923c7e6,How did Quebec nationalists see their province as a nation in the 1960s?,0\n",
    "        Needs to change ot: __label__0: how did quebec nationalists see their province as a nation in the 1960s ?\n",
    "    \n",
    "        So basically:\n",
    "            1. Question ID is removed\n",
    "            2. A \"__label__0\" or \"__label__1\" is prepended to each string\n",
    "            3. String changes to all lower case\n",
    "            4. All punctuation change to <space>punctuation. eg: in above example, 1960s? changes to 1960s ?\n",
    "        \n",
    "        Parameters:\n",
    "            in_data: Input data (csv) with each question on a separate line in the format: qid, question, 0/1\n",
    "            train_out: pathlib.Path name of training data\n",
    "            test_out: pathlib. Path name of test data\n",
    "            \n",
    "    '''\n",
    "    print('Preparing Data . . .')\n",
    "    with train_in.open() as infh,                 \\\n",
    "         expt_train_out.open('w') as train_out_fh, \\\n",
    "         expt_test_out.open('w') as test_out_fh:\n",
    "\n",
    "        for line in infh:\n",
    "            # print(line)\n",
    "            if line.strip().startswith('qid'):\n",
    "                continue\n",
    "            # If line is not in correct format, ignore it\n",
    "            if not check_train_line_format(line):\n",
    "                print(f'Ignoring line: {line.strip()}')\n",
    "                continue\n",
    "            # Using list slicing because I could not use split on comma. because commas appear withing the question.\n",
    "            try:\n",
    "                question = line.strip()[21:-2]\n",
    "                question = strip_formatting(question)\n",
    "                label = line.strip()[-1]\n",
    "                line_out = '__label__{} {}'.format(label, question)\n",
    "            except:\n",
    "                print('Errored out')\n",
    "                print(line)\n",
    "            # print(line_out)\n",
    "            \n",
    "            # Write out formatted data\n",
    "            if random.random() <= percent_test_data:\n",
    "                test_out_fh.write(line_out + \"\\n\")  \n",
    "            else:\n",
    "                train_out_fh.write(line_out + \"\\n\")\n",
    "                "
   ]
  },
  {
   "cell_type": "code",
   "execution_count": 10,
   "metadata": {},
   "outputs": [
    {
     "name": "stdout",
     "output_type": "stream",
     "text": [
      "Preparing Data . . .\n",
      "Ignoring line: 663c7523d48f5ee66a3e,\"In \"\"Star Trek 2013\"\" why did they :\n",
      "Ignoring line: \n",
      "Ignoring line: *Spoilers*\n",
      "Ignoring line: *Spoilers*\n",
      "Ignoring line: *Spoilers*\n",
      "Ignoring line: *Spoilers*\n",
      "Ignoring line: \n",
      "Ignoring line: 1)Make warping look quite a bit like an hyperspace jump\n",
      "Ignoring line: 2)what in the world were those bright particles as soon as they jumped.\n",
      "Ignoring line: 3)Why in the world did they make it possible for two entities to react in warp space in separate jumps.\n",
      "Ignoring line: 4)Why did Spock get emotions for this movie.\n",
      "Ignoring line: 5)What was the point of hiding the \"\"Enterprise\"\" underwater.\n",
      "Ignoring line: 6)When they were intercepted by the dark ship, how come they reached Earth when they were far away from her.(I don't seem to remember the scene where they warp to earth).\n",
      "Ignoring line: 7)How did the ship enter earth's atmosphere when it wasnt even in orbit.\n",
      "Ignoring line: 8)When Scotty opened the door of the black ship , how come pike and khan didn't slow down?\",0\n",
      "Ignoring line: 6ef70f76d9a69722c534,\"Can Adrián Lamo [ http://www.opham.main.quora.com/profile/Adrián-Lamo ] hack like Hackerman from Kung Fury? https://www.youtube.com/watch?v=KEkrWRHCDQU\n",
      "Ignoring line: \",0\n",
      "Ignoring line: 9fe52a3d6f4197cde6a8,\"What are the origins of the phrases \"\"Light of my\n",
      "Ignoring line: life\"\" and \"\"Fire of my loins\"\"?\n",
      "Ignoring line: \",0\n",
      "Ignoring line: b19eb313cc207ed2da7c,\"Who are the most brilliant graphic designers in 2014?\n",
      "Ignoring line: \",0\n",
      "Ignoring line: e455175ef407e9b2b52d,\"What if you could get access to a great online marketing system? See it here: https://youtu.be/He6690k-nHE\n",
      "Ignoring line: \",0\n",
      "Ignoring line: e6ffdaaf005658461c7e,\"http://youtu.be/5oqFm5XCQww\n",
      "Ignoring line: Burmese army throws muslim children into fire infront of their mothers, Aung su kyi is silent...so is world. hypocrite much?\",0\n"
     ]
    }
   ],
   "source": [
    "# Run the main functions\n",
    "prep_data(qiqc_train_in, qiqc_expt_train_out, qiqc_expt_test_out)"
   ]
  },
  {
   "cell_type": "code",
   "execution_count": null,
   "metadata": {},
   "outputs": [],
   "source": []
  }
 ],
 "metadata": {
  "kernelspec": {
   "display_name": "Python 3",
   "language": "python",
   "name": "python3"
  },
  "language_info": {
   "codemirror_mode": {
    "name": "ipython",
    "version": 3
   },
   "file_extension": ".py",
   "mimetype": "text/x-python",
   "name": "python",
   "nbconvert_exporter": "python",
   "pygments_lexer": "ipython3",
   "version": "3.6.2"
  }
 },
 "nbformat": 4,
 "nbformat_minor": 2
}
